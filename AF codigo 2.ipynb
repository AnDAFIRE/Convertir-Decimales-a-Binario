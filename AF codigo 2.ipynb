{
 "cells": [
  {
   "cell_type": "code",
   "execution_count": 1,
   "metadata": {},
   "outputs": [
    {
     "data": {
      "text/plain": [
       "2"
      ]
     },
     "execution_count": 1,
     "metadata": {},
     "output_type": "execute_result"
    }
   ],
   "source": [
    "1+1"
   ]
  },
  {
   "cell_type": "code",
   "execution_count": 8,
   "metadata": {},
   "outputs": [
    {
     "data": {
      "text/plain": [
       "'4'"
      ]
     },
     "execution_count": 8,
     "metadata": {},
     "output_type": "execute_result"
    }
   ],
   "source": [
    "input(\"ingresar un numero\")\n"
   ]
  },
  {
   "cell_type": "code",
   "execution_count": 12,
   "metadata": {},
   "outputs": [
    {
     "name": "stdout",
     "output_type": "stream",
     "text": [
      "es par\n"
     ]
    }
   ],
   "source": [
    "x=6\n",
    "if not x%2:\n",
    "    print(\"es par\")\n",
    "else:\n",
    "    print(\"es impar\")"
   ]
  },
  {
   "cell_type": "code",
   "execution_count": 22,
   "metadata": {},
   "outputs": [
    {
     "name": "stdout",
     "output_type": "stream",
     "text": [
      "es par\n"
     ]
    }
   ],
   "source": [
    "x=0\n",
    "if not x%2:\n",
    "    print(\"es par\")\n",
    "else:\n",
    "    print(\"es impar\")\n",
    "x=input(\"ingresar un numero\")"
   ]
  },
  {
   "cell_type": "code",
   "execution_count": 29,
   "metadata": {},
   "outputs": [
    {
     "name": "stdout",
     "output_type": "stream",
     "text": [
      "9\n"
     ]
    }
   ],
   "source": [
    "x=10\n",
    "x-=1 if x>0 else x\n",
    "print(x)"
   ]
  },
  {
   "cell_type": "code",
   "execution_count": 32,
   "metadata": {},
   "outputs": [
    {
     "name": "stdout",
     "output_type": "stream",
     "text": [
      "es par\n"
     ]
    }
   ],
   "source": [
    "x=0\n",
    "if not x%2:\n",
    "    print(\"es par\")\n",
    "else:\n",
    "    print(\"es impar\")\n",
    "x=input(\"ingresar un numero\")\n",
    "if not x%2:\n",
    "    print(\"es par\")\n",
    "else:\n",
    "    print(\"es impar\")\n",
    "x=input(\"ingresar un numero\")\n"
   ]
  }
 ],
 "metadata": {
  "kernelspec": {
   "display_name": "base",
   "language": "python",
   "name": "python3"
  },
  "language_info": {
   "codemirror_mode": {
    "name": "ipython",
    "version": 3
   },
   "file_extension": ".py",
   "mimetype": "text/x-python",
   "name": "python",
   "nbconvert_exporter": "python",
   "pygments_lexer": "ipython3",
   "version": "3.8.3"
  }
 },
 "nbformat": 4,
 "nbformat_minor": 2
}
